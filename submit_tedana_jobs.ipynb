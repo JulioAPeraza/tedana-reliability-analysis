{
 "cells": [
  {
   "cell_type": "markdown",
   "metadata": {},
   "source": [
    "# Submit full-dataset tedana jobs"
   ]
  },
  {
   "cell_type": "code",
   "execution_count": 1,
   "metadata": {
    "collapsed": true
   },
   "outputs": [],
   "source": [
    "import subprocess\n",
    "from time import sleep\n",
    "from os import remove\n",
    "import os.path as op"
   ]
  },
  {
   "cell_type": "code",
   "execution_count": 2,
   "metadata": {
    "collapsed": true
   },
   "outputs": [],
   "source": [
    "with open('tedana_template.sub', 'r') as fo:\n",
    "    data = fo.read()\n",
    "\n",
    "for i in range(40):\n",
    "    temp_data = data.format(seed=str(i))\n",
    "    temp_file = op.abspath('jobfiles/tedana_seed-{0}.sub'.format(i))\n",
    "    with open(temp_file, 'w') as fo:\n",
    "        fo.write(temp_data)\n",
    "    \n",
    "    sub_str = 'bsub<{0}'.format(temp_file)\n",
    "    process = subprocess.Popen(sub_str, shell=True)"
   ]
  },
  {
   "cell_type": "code",
   "execution_count": null,
   "metadata": {
    "collapsed": true
   },
   "outputs": [],
   "source": [
    "raise Exception()"
   ]
  },
  {
   "cell_type": "code",
   "execution_count": null,
   "metadata": {
    "collapsed": true
   },
   "outputs": [],
   "source": [
    "from glob import glob\n",
    "\n",
    "with open('tedana_template.sub', 'r') as fo:\n",
    "    data = fo.read()\n",
    "\n",
    "iter_list = list(range(10))\n",
    "\n",
    "out_files = sorted(glob('/home/tsalo006/tedana-comparison/code/outfiles/tedana_*'))\n",
    "unfinished_seeds = []\n",
    "for f in out_files:\n",
    "    seed = int(f.split('_')[-1])\n",
    "    with open(f, 'r') as fo:\n",
    "        out_data = fo.read()\n",
    "        if 'Exited with exit code' in out_data:\n",
    "            unfinished_seeds.append(seed)\n",
    "\n",
    "unfinished_seeds = sorted(unfinished_seeds)\n",
    "\n",
    "for i in unfinished_seeds:\n",
    "    temp_data = data.format(seed=str(i))\n",
    "    temp_file = op.abspath('jobfiles/tedana_seed-{0}.sub'.format(i))\n",
    "    with open(temp_file, 'w') as fo:\n",
    "        fo.write(temp_data)\n",
    "    \n",
    "    sub_str = 'bsub<{0}'.format(temp_file)\n",
    "    #process = subprocess.Popen(sub_str, shell=True)"
   ]
  },
  {
   "cell_type": "code",
   "execution_count": null,
   "metadata": {
    "collapsed": true
   },
   "outputs": [],
   "source": [
    "print(len(unfinished_seeds))"
   ]
  },
  {
   "cell_type": "code",
   "execution_count": null,
   "metadata": {
    "collapsed": true
   },
   "outputs": [],
   "source": [
    "unfinished_seeds"
   ]
  },
  {
   "cell_type": "code",
   "execution_count": null,
   "metadata": {
    "collapsed": true
   },
   "outputs": [],
   "source": []
  }
 ],
 "metadata": {
  "kernelspec": {
   "display_name": "Python 2",
   "language": "python",
   "name": "python2"
  },
  "language_info": {
   "codemirror_mode": {
    "name": "ipython",
    "version": 2
   },
   "file_extension": ".py",
   "mimetype": "text/x-python",
   "name": "python",
   "nbconvert_exporter": "python",
   "pygments_lexer": "ipython2",
   "version": "2.7.11"
  }
 },
 "nbformat": 4,
 "nbformat_minor": 2
}
