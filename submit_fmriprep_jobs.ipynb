{
 "cells": [
  {
   "cell_type": "markdown",
   "metadata": {},
   "source": [
    "# Submit single-subject fMRIPrep jobs"
   ]
  },
  {
   "cell_type": "code",
   "execution_count": 1,
   "metadata": {},
   "outputs": [
    {
     "name": "stderr",
     "output_type": "stream",
     "text": [
      "/home/data/nbc/data-analysis/env/lib/python2.7/site-packages/h5py/__init__.py:34: FutureWarning: Conversion of the second argument of issubdtype from `float` to `np.floating` is deprecated. In future, it will be treated as `np.float64 == np.dtype(float).type`.\n",
      "  from ._conv import register_converters as _register_converters\n"
     ]
    }
   ],
   "source": [
    "import subprocess\n",
    "import os.path as op\n",
    "from glob import glob\n",
    "\n",
    "from bids.layout import BIDSLayout"
   ]
  },
  {
   "cell_type": "code",
   "execution_count": 3,
   "metadata": {},
   "outputs": [],
   "source": [
    "with open('fmriprep_template.sub', 'r') as fo:\n",
    "    data = fo.read()\n",
    "\n",
    "dsets = ['ds001491']  \n",
    "\n",
    "for dset in dsets:\n",
    "    layout = BIDSLayout('/scratch/tsalo006/{0}'.format(dset), derivatives=False)\n",
    "    subjects = layout.get_subjects()\n",
    "    for sub in subjects:\n",
    "        work = 'work/{0}-{1}-fmriprep-work'.format(dset, sub)\n",
    "        temp_data = data.format(sub=sub, work=work, dset=dset)\n",
    "\n",
    "        temp_file = op.abspath('jobfiles/fmriprep_{0}_sub-{1}.sub'.format(dset, sub))\n",
    "        with open(temp_file, 'w') as fo:\n",
    "            fo.write(temp_data)\n",
    "\n",
    "        sub_str = 'bsub<{0}'.format(temp_file)\n",
    "        process = subprocess.Popen(sub_str, shell=True)"
   ]
  }
 ],
 "metadata": {
  "kernelspec": {
   "display_name": "Python [conda env:python3]",
   "language": "python",
   "name": "conda-env-python3-py"
  },
  "language_info": {
   "codemirror_mode": {
    "name": "ipython",
    "version": 3
   },
   "file_extension": ".py",
   "mimetype": "text/x-python",
   "name": "python",
   "nbconvert_exporter": "python",
   "pygments_lexer": "ipython3",
   "version": "3.6.4"
  }
 },
 "nbformat": 4,
 "nbformat_minor": 1
}
