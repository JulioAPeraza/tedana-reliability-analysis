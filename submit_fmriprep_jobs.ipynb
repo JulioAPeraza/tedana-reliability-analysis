{
 "cells": [
  {
   "cell_type": "markdown",
   "metadata": {},
   "source": [
    "# Submit single-subject fMRIPrep jobs"
   ]
  },
  {
   "cell_type": "code",
   "execution_count": 1,
   "metadata": {
    "collapsed": false
   },
   "outputs": [
    {
     "name": "stderr",
     "output_type": "stream",
     "text": [
      "/home/data/nbc/data-analysis/env/lib/python2.7/site-packages/h5py/__init__.py:34: FutureWarning: Conversion of the second argument of issubdtype from `float` to `np.floating` is deprecated. In future, it will be treated as `np.float64 == np.dtype(float).type`.\n",
      "  from ._conv import register_converters as _register_converters\n"
     ]
    }
   ],
   "source": [
    "import subprocess\n",
    "import os.path as op\n",
    "from glob import glob\n",
    "\n",
    "from bids.layout import BIDSLayout"
   ]
  },
  {
   "cell_type": "code",
   "execution_count": 2,
   "metadata": {
    "collapsed": false
   },
   "outputs": [
    {
     "name": "stdout",
     "output_type": "stream",
     "text": [
      "[]\n",
      "['0001141', '0001151']\n"
     ]
    }
   ],
   "source": [
    "layout = BIDSLayout('/scratch/tsalo006/ds001491/', derivatives=False)\n",
    "subjects = layout.get_subjects()"
   ]
  },
  {
   "cell_type": "code",
   "execution_count": 3,
   "metadata": {
    "collapsed": false
   },
   "outputs": [],
   "source": [
    "with open('fmriprep_template.sub', 'r') as fo:\n",
    "    data = fo.read()\n",
    "\n",
    "for sub in subjects:\n",
    "    work = 'work/{0}-fmriprep-work'.format(sub)\n",
    "    temp_data = data.format(sub=sub, work=work)\n",
    "\n",
    "    temp_file = op.abspath('jobfiles/fmriprep_sub-{0}.sub'.format(sub))\n",
    "    with open(temp_file, 'w') as fo:\n",
    "        fo.write(temp_data)\n",
    "    \n",
    "    sub_str = 'bsub<{0}'.format(temp_file)\n",
    "    process = subprocess.Popen(sub_str, shell=True)"
   ]
  }
 ],
 "metadata": {
  "kernelspec": {
   "display_name": "Python 2",
   "language": "python",
   "name": "python2"
  },
  "language_info": {
   "codemirror_mode": {
    "name": "ipython",
    "version": 2
   },
   "file_extension": ".py",
   "mimetype": "text/x-python",
   "name": "python",
   "nbconvert_exporter": "python",
   "pygments_lexer": "ipython2",
   "version": "2.7.11"
  }
 },
 "nbformat": 4,
 "nbformat_minor": 0
}
