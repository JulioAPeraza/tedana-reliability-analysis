{
 "cells": [
  {
   "cell_type": "code",
   "execution_count": 1,
   "metadata": {},
   "outputs": [],
   "source": [
    "from glob import glob\n",
    "import os.path as op\n",
    "import nibabel as nib\n",
    "from shutil import copyfile\n",
    "\n",
    "import pickle\n",
    "import gzip"
   ]
  },
  {
   "cell_type": "code",
   "execution_count": 2,
   "metadata": {},
   "outputs": [],
   "source": [
    "work_dir = '/home/data/nbc/external-datasets/ltd_dset/derivatives/fmriprep-work/'\n",
    "deriv_dir = '/home/data/nbc/external-datasets/ltd_dset/derivatives/fmriprep/'\n",
    "subs = ['ltd']\n",
    "\n",
    "xform_rename = {'bold_reg_wf/bbreg_wf/fsl2itk_fwd/affine.txt': '_from-reference_to-T1w_mode-image_xfm.txt',\n",
    "                'bold_hmc_wf/fsl2itk/mat2itk.txt': '_from-native_to-reference_mode-image_xfm.txt'}"
   ]
  },
  {
   "cell_type": "code",
   "execution_count": 3,
   "metadata": {},
   "outputs": [],
   "source": [
    "for sub in subs:\n",
    "    sub_in_dir = op.join(work_dir, 'single_subject_{0}_wf'.format(sub))\n",
    "    task_dirs = glob(op.join(sub_in_dir, 'func_preproc_task_*_wf'))\n",
    "    for task_dir in task_dirs:\n",
    "        bb_wf_dir = op.join(task_dir, 'bold_bold_trans_wf')\n",
    "        bf_dirs = sorted(glob(op.join(bb_wf_dir, '_bold_file_*')))\n",
    "        for bf_dir in bf_dirs:\n",
    "            # Collect partially preprocessed data\n",
    "            bf_dir_list = bf_dir.split('..')\n",
    "            idx = bf_dir_list.index('sub-{0}'.format(sub))\n",
    "            sub_deriv_dir = op.join(deriv_dir, op.dirname('/'.join(bf_dir_list[idx:])))\n",
    "            bf_filename = bf_dir_list[-1]\n",
    "            in_file = op.join(bf_dir, 'merge/vol0000_xform-00000_merged.nii.gz')\n",
    "            orig_fn_list = bf_filename.split('_')\n",
    "            fn_list = orig_fn_list[:]\n",
    "            fn_list.insert(-1, 'space-native')\n",
    "            fn_list.insert(-1, 'desc-partialPreproc')\n",
    "            out_file = op.join(sub_deriv_dir, '_'.join(fn_list))\n",
    "            copyfile(in_file, out_file)\n",
    "            \n",
    "        # Collect native-to-T1w and T1w-to-MNI transforms\n",
    "        out_func_dir = op.dirname(out_file)\n",
    "        f = op.join(task_dir, 'bold_mni_trans_wf',\n",
    "                    'bold_to_mni_transform/_inputs.pklz')\n",
    "        with gzip.open(f, 'rb') as fo:\n",
    "            data = pickle.load(fo)\n",
    "        \n",
    "        xform_rename2 = {}\n",
    "        orig_fn_list = [fn for fn in orig_fn_list if 'echo' not in fn]\n",
    "        orig_fn_list = orig_fn_list[:-1]\n",
    "        for xform in xform_rename.keys():\n",
    "            chosen = [xf for xf in data['transforms'] if xf.endswith(xform)]\n",
    "            assert len(chosen) == 1\n",
    "            chosen = chosen[0]\n",
    "            xform_fn = '_'.join(orig_fn_list) + xform_rename[xform]\n",
    "            xform_rename2[chosen] = op.join(out_func_dir, xform_fn)\n",
    "                \n",
    "        for in_xform in xform_rename2.keys():\n",
    "            copyfile(in_xform, xform_rename2[in_xform])\n"
   ]
  },
  {
   "cell_type": "code",
   "execution_count": 4,
   "metadata": {},
   "outputs": [],
   "source": [
    "# TODO: build miniworkflow to split, apply xforms, and merge"
   ]
  },
  {
   "cell_type": "code",
   "execution_count": null,
   "metadata": {},
   "outputs": [],
   "source": []
  }
 ],
 "metadata": {
  "kernelspec": {
   "display_name": "Python 3",
   "language": "python",
   "name": "python3"
  },
  "language_info": {
   "codemirror_mode": {
    "name": "ipython",
    "version": 3
   },
   "file_extension": ".py",
   "mimetype": "text/x-python",
   "name": "python",
   "nbconvert_exporter": "python",
   "pygments_lexer": "ipython3",
   "version": "3.6.2"
  }
 },
 "nbformat": 4,
 "nbformat_minor": 2
}
